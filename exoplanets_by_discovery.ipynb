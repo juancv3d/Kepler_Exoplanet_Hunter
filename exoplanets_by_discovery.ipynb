{
 "cells": [
  {
   "cell_type": "code",
   "execution_count": 1,
   "metadata": {},
   "outputs": [
    {
     "name": "stderr",
     "output_type": "stream",
     "text": [
      "/home/juancv3d/.pyenv/versions/3.8.10/envs/Data-Analysis/lib/python3.8/site-packages/pandas/compat/__init__.py:109: UserWarning: Could not import the lzma module. Your installed Python is incomplete. Attempting to use lzma compression will result in a RuntimeError.\n",
      "  warnings.warn(msg)\n"
     ]
    }
   ],
   "source": [
    "# Data Analysis library\n",
    "import pandas as pd\n",
    "import numpy as np\n",
    "import matplotlib.pyplot as plt\n",
    "import seaborn as sns\n",
    "import scipy.stats as stats\n",
    "import statsmodels.api as sm\n",
    "from statsmodels.formula.api import ols"
   ]
  },
  {
   "cell_type": "code",
   "execution_count": 2,
   "metadata": {},
   "outputs": [
    {
     "data": {
      "text/html": [
       "<div>\n",
       "<style scoped>\n",
       "    .dataframe tbody tr th:only-of-type {\n",
       "        vertical-align: middle;\n",
       "    }\n",
       "\n",
       "    .dataframe tbody tr th {\n",
       "        vertical-align: top;\n",
       "    }\n",
       "\n",
       "    .dataframe thead th {\n",
       "        text-align: right;\n",
       "    }\n",
       "</style>\n",
       "<table border=\"1\" class=\"dataframe\">\n",
       "  <thead>\n",
       "    <tr style=\"text-align: right;\">\n",
       "      <th></th>\n",
       "      <th>sy_snum</th>\n",
       "      <th>sy_pnum</th>\n",
       "      <th>discoverymethod</th>\n",
       "      <th>disc_year</th>\n",
       "      <th>disc_facility</th>\n",
       "    </tr>\n",
       "  </thead>\n",
       "  <tbody>\n",
       "    <tr>\n",
       "      <th>0</th>\n",
       "      <td>2</td>\n",
       "      <td>1</td>\n",
       "      <td>Radial Velocity</td>\n",
       "      <td>2007</td>\n",
       "      <td>Xinglong Station</td>\n",
       "    </tr>\n",
       "    <tr>\n",
       "      <th>1</th>\n",
       "      <td>1</td>\n",
       "      <td>1</td>\n",
       "      <td>Radial Velocity</td>\n",
       "      <td>2009</td>\n",
       "      <td>Thueringer Landessternwarte Tautenburg</td>\n",
       "    </tr>\n",
       "    <tr>\n",
       "      <th>2</th>\n",
       "      <td>1</td>\n",
       "      <td>1</td>\n",
       "      <td>Radial Velocity</td>\n",
       "      <td>2008</td>\n",
       "      <td>Okayama Astrophysical Observatory</td>\n",
       "    </tr>\n",
       "    <tr>\n",
       "      <th>3</th>\n",
       "      <td>1</td>\n",
       "      <td>2</td>\n",
       "      <td>Radial Velocity</td>\n",
       "      <td>2002</td>\n",
       "      <td>W. M. Keck Observatory</td>\n",
       "    </tr>\n",
       "    <tr>\n",
       "      <th>4</th>\n",
       "      <td>3</td>\n",
       "      <td>1</td>\n",
       "      <td>Radial Velocity</td>\n",
       "      <td>1996</td>\n",
       "      <td>Multiple Observatories</td>\n",
       "    </tr>\n",
       "    <tr>\n",
       "      <th>...</th>\n",
       "      <td>...</td>\n",
       "      <td>...</td>\n",
       "      <td>...</td>\n",
       "      <td>...</td>\n",
       "      <td>...</td>\n",
       "    </tr>\n",
       "    <tr>\n",
       "      <th>5049</th>\n",
       "      <td>2</td>\n",
       "      <td>3</td>\n",
       "      <td>Radial Velocity</td>\n",
       "      <td>1996</td>\n",
       "      <td>Lick Observatory</td>\n",
       "    </tr>\n",
       "    <tr>\n",
       "      <th>5050</th>\n",
       "      <td>2</td>\n",
       "      <td>3</td>\n",
       "      <td>Radial Velocity</td>\n",
       "      <td>1999</td>\n",
       "      <td>Multiple Observatories</td>\n",
       "    </tr>\n",
       "    <tr>\n",
       "      <th>5051</th>\n",
       "      <td>2</td>\n",
       "      <td>3</td>\n",
       "      <td>Radial Velocity</td>\n",
       "      <td>1999</td>\n",
       "      <td>Multiple Observatories</td>\n",
       "    </tr>\n",
       "    <tr>\n",
       "      <th>5052</th>\n",
       "      <td>1</td>\n",
       "      <td>1</td>\n",
       "      <td>Radial Velocity</td>\n",
       "      <td>2021</td>\n",
       "      <td>Okayama Astrophysical Observatory</td>\n",
       "    </tr>\n",
       "    <tr>\n",
       "      <th>5053</th>\n",
       "      <td>1</td>\n",
       "      <td>1</td>\n",
       "      <td>Radial Velocity</td>\n",
       "      <td>2007</td>\n",
       "      <td>Okayama Astrophysical Observatory</td>\n",
       "    </tr>\n",
       "  </tbody>\n",
       "</table>\n",
       "<p>5054 rows × 5 columns</p>\n",
       "</div>"
      ],
      "text/plain": [
       "      sy_snum  sy_pnum  discoverymethod  disc_year  \\\n",
       "0           2        1  Radial Velocity       2007   \n",
       "1           1        1  Radial Velocity       2009   \n",
       "2           1        1  Radial Velocity       2008   \n",
       "3           1        2  Radial Velocity       2002   \n",
       "4           3        1  Radial Velocity       1996   \n",
       "...       ...      ...              ...        ...   \n",
       "5049        2        3  Radial Velocity       1996   \n",
       "5050        2        3  Radial Velocity       1999   \n",
       "5051        2        3  Radial Velocity       1999   \n",
       "5052        1        1  Radial Velocity       2021   \n",
       "5053        1        1  Radial Velocity       2007   \n",
       "\n",
       "                               disc_facility  \n",
       "0                           Xinglong Station  \n",
       "1     Thueringer Landessternwarte Tautenburg  \n",
       "2          Okayama Astrophysical Observatory  \n",
       "3                     W. M. Keck Observatory  \n",
       "4                     Multiple Observatories  \n",
       "...                                      ...  \n",
       "5049                        Lick Observatory  \n",
       "5050                  Multiple Observatories  \n",
       "5051                  Multiple Observatories  \n",
       "5052       Okayama Astrophysical Observatory  \n",
       "5053       Okayama Astrophysical Observatory  \n",
       "\n",
       "[5054 rows x 5 columns]"
      ]
     },
     "execution_count": 2,
     "metadata": {},
     "output_type": "execute_result"
    }
   ],
   "source": [
    "exoplanets = pd.read_csv('data/exoplanets_discovered.csv', delimiter=',')\n",
    "exoplanets"
   ]
  },
  {
   "cell_type": "code",
   "execution_count": 3,
   "metadata": {},
   "outputs": [
    {
     "data": {
      "text/plain": [
       "array(['Radial Velocity', 'Imaging', 'Eclipse Timing Variations',\n",
       "       'Transit', 'Astrometry', 'Disk Kinematics',\n",
       "       'Orbital Brightness Modulation', 'Pulsation Timing Variations',\n",
       "       'Microlensing', 'Transit Timing Variations', 'Pulsar Timing'],\n",
       "      dtype=object)"
      ]
     },
     "execution_count": 3,
     "metadata": {},
     "output_type": "execute_result"
    }
   ],
   "source": [
    "exoplanets['discoverymethod'].unique()"
   ]
  },
  {
   "cell_type": "code",
   "execution_count": 82,
   "metadata": {},
   "outputs": [
    {
     "data": {
      "text/plain": [
       "Text(0, 0.5, 'Number of Exoplanets Discovered')"
      ]
     },
     "execution_count": 82,
     "metadata": {},
     "output_type": "execute_result"
    },
    {
     "data": {
      "image/png": "[encoded data removed]",
      "text/plain": [
       "<Figure size 2160x360 with 1 Axes>"
      ]
     },
     "metadata": {
      "needs_background": "light"
     },
     "output_type": "display_data"
    }
   ],
   "source": [
    "plt.figure(figsize=(30, 5))\n",
    "sns.barplot(x='discoverymethod', y='sy_pnum', data=exoplanets)\n",
    "# size plot\n",
    "# tittle number of finding by type not normalized \n",
    "plt.title('Number of Exoplanets Discovered by Discovery Method')\n",
    "plt.xlabel('Discovery Method')\n",
    "plt.ylabel('Number of Exoplanets Discovered')\n",
    "\n"
   ]
  },
  {
   "cell_type": "code",
   "execution_count": 83,
   "metadata": {},
   "outputs": [
    {
     "data": {
      "text/plain": [
       "Text(0, 0.5, 'Number of Exoplanets Discovered')"
      ]
     },
     "execution_count": 83,
     "metadata": {},
     "output_type": "execute_result"
    },
    {
     "data": {
      "image/png": "[encoded data removed]",
      "text/plain": [
       "<Figure size 2160x360 with 1 Axes>"
      ]
     },
     "metadata": {
      "needs_background": "light"
     },
     "output_type": "display_data"
    }
   ],
   "source": [
    "#violin plot\n",
    "plt.figure(figsize=(30, 5))\n",
    "sns.violinplot(x='discoverymethod', y='sy_pnum', data=exoplanets)\n",
    "# size plot\n",
    "# tittle number of finding by type not normalized\n",
    "plt.title('Number of Exoplanets Discovered by Discovery Method')\n",
    "plt.xlabel('Discovery Method')\n",
    "plt.ylabel('Number of Exoplanets Discovered')\n"
   ]
  },
  {
   "cell_type": "code",
   "execution_count": 62,
   "metadata": {},
   "outputs": [
    {
     "data": {
      "text/plain": [
       "{'Astrometry': 1,\n",
       " 'Disk Kinematics': 1,\n",
       " 'Eclipse Timing Variations': 32,\n",
       " 'Imaging': 79,\n",
       " 'Microlensing': 138,\n",
       " 'Orbital Brightness Modulation': 17,\n",
       " 'Pulsar Timing': 13,\n",
       " 'Pulsation Timing Variations': 2,\n",
       " 'Radial Velocity': 1720,\n",
       " 'Transit': 6842,\n",
       " 'Transit Timing Variations': 59}"
      ]
     },
     "execution_count": 62,
     "metadata": {},
     "output_type": "execute_result"
    }
   ],
   "source": [
    "total_planet = exoplanets.groupby('discoverymethod')['sy_pnum'].value_counts()\n",
    "planet_count = {}\n",
    "for value, num in total_planet.items():\n",
    "    if value[0] in planet_count:\n",
    "        planet_count[value[0]] += num*value[1]\n",
    "    else:\n",
    "        planet_count[value[0]] = num*value[1]\n",
    "\n",
    "planet_count\n"
   ]
  },
  {
   "cell_type": "code",
   "execution_count": 54,
   "metadata": {},
   "outputs": [
    {
     "data": {
      "text/plain": [
       "{'Astrometry': 1,\n",
       " 'Disk Kinematics': 1,\n",
       " 'Eclipse Timing Variations': 37,\n",
       " 'Imaging': 71,\n",
       " 'Microlensing': 137,\n",
       " 'Orbital Brightness Modulation': 9,\n",
       " 'Pulsar Timing': 8,\n",
       " 'Pulsation Timing Variations': 2,\n",
       " 'Radial Velocity': 1131,\n",
       " 'Transit': 4151,\n",
       " 'Transit Timing Variations': 24}"
      ]
     },
     "execution_count": 54,
     "metadata": {},
     "output_type": "execute_result"
    }
   ],
   "source": [
    "# this method count the total of star\n",
    "total_star = exoplanets.groupby('discoverymethod')['sy_snum'].value_counts()\n",
    "\n",
    "star_count = {}\n",
    "\n",
    "\n",
    "for value, num in total_star.items():\n",
    "    if value[0] in star_count:\n",
    "        star_count[value[0]] += num*value[1]\n",
    "    else:\n",
    "        star_count[value[0]] = num*value[1]\n",
    "star_count\n"
   ]
  },
  {
   "cell_type": "code",
   "execution_count": 86,
   "metadata": {},
   "outputs": [
    {
     "data": {
      "image/png": "[encoded data removed]",
      "text/plain": [
       "<Figure size 2160x360 with 1 Axes>"
      ]
     },
     "metadata": {
      "needs_background": "light"
     },
     "output_type": "display_data"
    }
   ],
   "source": [
    "#plot start_count and planet_count\n",
    "plt.figure(figsize=(30, 5))\n",
    "plt.bar(x=list(planet_count.keys()), height=list(planet_count.values()))\n",
    "plt.bar(x=list(star_count.keys()), height=list(star_count.values()))\n",
    "plt.title('Number of Exoplanets and Stars Discovered by Discovery Method')\n",
    "plt.xlabel('Discovery Method')\n",
    "plt.ylabel('Number of Exoplanets and Stars Discovered')\n",
    "plt.legend(['Planet', 'Star'])\n",
    "plt.show()"
   ]
  },
  {
   "cell_type": "code",
   "execution_count": 65,
   "metadata": {},
   "outputs": [
    {
     "name": "stdout",
     "output_type": "stream",
     "text": [
      "1989 2022\n"
     ]
    }
   ],
   "source": [
    "x = np.array(exoplanets[\"discoverymethod\"])\n",
    "discovery_types = np.unique(x)\n",
    "min_year = exoplanets['disc_year'].min()\n",
    "max_year = exoplanets['disc_year'].max()\n",
    "print(min_year, max_year)\n"
   ]
  },
  {
   "cell_type": "code",
   "execution_count": 66,
   "metadata": {},
   "outputs": [],
   "source": [
    "# Make array of years and types\n",
    "exoplanets_years = pd.DataFrame()\n",
    "for year in range(min_year, max_year + 1):\n",
    "  discovery_type_list = []\n",
    "  for index, discovery_type in enumerate(discovery_types):\n",
    "    numPlanets = 0\n",
    "    if year > min_year:\n",
    "      # numplanets is the cumulative total.\n",
    "      numPlanets = exoplanets_years.at[index,year-1]\n",
    "    numPlanets += pd.Series.sum((exoplanets['disc_year'] == year) & (exoplanets['discoverymethod'] == discovery_type))\n",
    "    discovery_type_list.append(numPlanets)\n",
    "  exoplanets_years[year] = discovery_type_list\n",
    "exoplanets_years.insert(0, \"Discovery Type\", discovery_types)"
   ]
  },
  {
   "cell_type": "code",
   "execution_count": 67,
   "metadata": {},
   "outputs": [
    {
     "data": {
      "text/html": [
       "<div>\n",
       "<style scoped>\n",
       "    .dataframe tbody tr th:only-of-type {\n",
       "        vertical-align: middle;\n",
       "    }\n",
       "\n",
       "    .dataframe tbody tr th {\n",
       "        vertical-align: top;\n",
       "    }\n",
       "\n",
       "    .dataframe thead th {\n",
       "        text-align: right;\n",
       "    }\n",
       "</style>\n",
       "<table border=\"1\" class=\"dataframe\">\n",
       "  <thead>\n",
       "    <tr style=\"text-align: right;\">\n",
       "      <th></th>\n",
       "      <th>Discovery Type</th>\n",
       "      <th>1989</th>\n",
       "      <th>1990</th>\n",
       "      <th>1991</th>\n",
       "      <th>1992</th>\n",
       "      <th>1993</th>\n",
       "      <th>1994</th>\n",
       "      <th>1995</th>\n",
       "      <th>1996</th>\n",
       "      <th>1997</th>\n",
       "      <th>...</th>\n",
       "      <th>2013</th>\n",
       "      <th>2014</th>\n",
       "      <th>2015</th>\n",
       "      <th>2016</th>\n",
       "      <th>2017</th>\n",
       "      <th>2018</th>\n",
       "      <th>2019</th>\n",
       "      <th>2020</th>\n",
       "      <th>2021</th>\n",
       "      <th>2022</th>\n",
       "    </tr>\n",
       "  </thead>\n",
       "  <tbody>\n",
       "    <tr>\n",
       "      <th>0</th>\n",
       "      <td>Astrometry</td>\n",
       "      <td>0</td>\n",
       "      <td>0</td>\n",
       "      <td>0</td>\n",
       "      <td>0</td>\n",
       "      <td>0</td>\n",
       "      <td>0</td>\n",
       "      <td>0</td>\n",
       "      <td>0</td>\n",
       "      <td>0</td>\n",
       "      <td>...</td>\n",
       "      <td>1</td>\n",
       "      <td>1</td>\n",
       "      <td>1</td>\n",
       "      <td>1</td>\n",
       "      <td>1</td>\n",
       "      <td>1</td>\n",
       "      <td>1</td>\n",
       "      <td>1</td>\n",
       "      <td>1</td>\n",
       "      <td>1</td>\n",
       "    </tr>\n",
       "    <tr>\n",
       "      <th>1</th>\n",
       "      <td>Disk Kinematics</td>\n",
       "      <td>0</td>\n",
       "      <td>0</td>\n",
       "      <td>0</td>\n",
       "      <td>0</td>\n",
       "      <td>0</td>\n",
       "      <td>0</td>\n",
       "      <td>0</td>\n",
       "      <td>0</td>\n",
       "      <td>0</td>\n",
       "      <td>...</td>\n",
       "      <td>0</td>\n",
       "      <td>0</td>\n",
       "      <td>0</td>\n",
       "      <td>0</td>\n",
       "      <td>0</td>\n",
       "      <td>0</td>\n",
       "      <td>1</td>\n",
       "      <td>1</td>\n",
       "      <td>1</td>\n",
       "      <td>1</td>\n",
       "    </tr>\n",
       "    <tr>\n",
       "      <th>2</th>\n",
       "      <td>Eclipse Timing Variations</td>\n",
       "      <td>0</td>\n",
       "      <td>0</td>\n",
       "      <td>0</td>\n",
       "      <td>0</td>\n",
       "      <td>0</td>\n",
       "      <td>0</td>\n",
       "      <td>0</td>\n",
       "      <td>0</td>\n",
       "      <td>0</td>\n",
       "      <td>...</td>\n",
       "      <td>10</td>\n",
       "      <td>10</td>\n",
       "      <td>11</td>\n",
       "      <td>11</td>\n",
       "      <td>13</td>\n",
       "      <td>14</td>\n",
       "      <td>16</td>\n",
       "      <td>16</td>\n",
       "      <td>16</td>\n",
       "      <td>18</td>\n",
       "    </tr>\n",
       "    <tr>\n",
       "      <th>3</th>\n",
       "      <td>Imaging</td>\n",
       "      <td>0</td>\n",
       "      <td>0</td>\n",
       "      <td>0</td>\n",
       "      <td>0</td>\n",
       "      <td>0</td>\n",
       "      <td>0</td>\n",
       "      <td>0</td>\n",
       "      <td>0</td>\n",
       "      <td>0</td>\n",
       "      <td>...</td>\n",
       "      <td>34</td>\n",
       "      <td>36</td>\n",
       "      <td>41</td>\n",
       "      <td>43</td>\n",
       "      <td>44</td>\n",
       "      <td>45</td>\n",
       "      <td>49</td>\n",
       "      <td>51</td>\n",
       "      <td>58</td>\n",
       "      <td>60</td>\n",
       "    </tr>\n",
       "    <tr>\n",
       "      <th>4</th>\n",
       "      <td>Microlensing</td>\n",
       "      <td>0</td>\n",
       "      <td>0</td>\n",
       "      <td>0</td>\n",
       "      <td>0</td>\n",
       "      <td>0</td>\n",
       "      <td>0</td>\n",
       "      <td>0</td>\n",
       "      <td>0</td>\n",
       "      <td>0</td>\n",
       "      <td>...</td>\n",
       "      <td>25</td>\n",
       "      <td>31</td>\n",
       "      <td>35</td>\n",
       "      <td>45</td>\n",
       "      <td>54</td>\n",
       "      <td>75</td>\n",
       "      <td>89</td>\n",
       "      <td>108</td>\n",
       "      <td>126</td>\n",
       "      <td>130</td>\n",
       "    </tr>\n",
       "    <tr>\n",
       "      <th>5</th>\n",
       "      <td>Orbital Brightness Modulation</td>\n",
       "      <td>0</td>\n",
       "      <td>0</td>\n",
       "      <td>0</td>\n",
       "      <td>0</td>\n",
       "      <td>0</td>\n",
       "      <td>0</td>\n",
       "      <td>0</td>\n",
       "      <td>0</td>\n",
       "      <td>0</td>\n",
       "      <td>...</td>\n",
       "      <td>3</td>\n",
       "      <td>6</td>\n",
       "      <td>6</td>\n",
       "      <td>6</td>\n",
       "      <td>6</td>\n",
       "      <td>6</td>\n",
       "      <td>6</td>\n",
       "      <td>6</td>\n",
       "      <td>9</td>\n",
       "      <td>9</td>\n",
       "    </tr>\n",
       "    <tr>\n",
       "      <th>6</th>\n",
       "      <td>Pulsar Timing</td>\n",
       "      <td>0</td>\n",
       "      <td>0</td>\n",
       "      <td>0</td>\n",
       "      <td>2</td>\n",
       "      <td>2</td>\n",
       "      <td>3</td>\n",
       "      <td>3</td>\n",
       "      <td>3</td>\n",
       "      <td>3</td>\n",
       "      <td>...</td>\n",
       "      <td>5</td>\n",
       "      <td>5</td>\n",
       "      <td>5</td>\n",
       "      <td>5</td>\n",
       "      <td>7</td>\n",
       "      <td>7</td>\n",
       "      <td>7</td>\n",
       "      <td>7</td>\n",
       "      <td>7</td>\n",
       "      <td>7</td>\n",
       "    </tr>\n",
       "    <tr>\n",
       "      <th>7</th>\n",
       "      <td>Pulsation Timing Variations</td>\n",
       "      <td>0</td>\n",
       "      <td>0</td>\n",
       "      <td>0</td>\n",
       "      <td>0</td>\n",
       "      <td>0</td>\n",
       "      <td>0</td>\n",
       "      <td>0</td>\n",
       "      <td>0</td>\n",
       "      <td>0</td>\n",
       "      <td>...</td>\n",
       "      <td>1</td>\n",
       "      <td>1</td>\n",
       "      <td>1</td>\n",
       "      <td>2</td>\n",
       "      <td>2</td>\n",
       "      <td>2</td>\n",
       "      <td>2</td>\n",
       "      <td>2</td>\n",
       "      <td>2</td>\n",
       "      <td>2</td>\n",
       "    </tr>\n",
       "    <tr>\n",
       "      <th>8</th>\n",
       "      <td>Radial Velocity</td>\n",
       "      <td>1</td>\n",
       "      <td>1</td>\n",
       "      <td>1</td>\n",
       "      <td>1</td>\n",
       "      <td>1</td>\n",
       "      <td>1</td>\n",
       "      <td>2</td>\n",
       "      <td>8</td>\n",
       "      <td>9</td>\n",
       "      <td>...</td>\n",
       "      <td>476</td>\n",
       "      <td>527</td>\n",
       "      <td>574</td>\n",
       "      <td>623</td>\n",
       "      <td>672</td>\n",
       "      <td>721</td>\n",
       "      <td>788</td>\n",
       "      <td>833</td>\n",
       "      <td>912</td>\n",
       "      <td>934</td>\n",
       "    </tr>\n",
       "    <tr>\n",
       "      <th>9</th>\n",
       "      <td>Transit</td>\n",
       "      <td>0</td>\n",
       "      <td>0</td>\n",
       "      <td>0</td>\n",
       "      <td>0</td>\n",
       "      <td>0</td>\n",
       "      <td>0</td>\n",
       "      <td>0</td>\n",
       "      <td>0</td>\n",
       "      <td>0</td>\n",
       "      <td>...</td>\n",
       "      <td>360</td>\n",
       "      <td>1162</td>\n",
       "      <td>1262</td>\n",
       "      <td>2720</td>\n",
       "      <td>2809</td>\n",
       "      <td>3062</td>\n",
       "      <td>3175</td>\n",
       "      <td>3341</td>\n",
       "      <td>3756</td>\n",
       "      <td>3870</td>\n",
       "    </tr>\n",
       "    <tr>\n",
       "      <th>10</th>\n",
       "      <td>Transit Timing Variations</td>\n",
       "      <td>0</td>\n",
       "      <td>0</td>\n",
       "      <td>0</td>\n",
       "      <td>0</td>\n",
       "      <td>0</td>\n",
       "      <td>0</td>\n",
       "      <td>0</td>\n",
       "      <td>0</td>\n",
       "      <td>0</td>\n",
       "      <td>...</td>\n",
       "      <td>2</td>\n",
       "      <td>14</td>\n",
       "      <td>14</td>\n",
       "      <td>15</td>\n",
       "      <td>16</td>\n",
       "      <td>17</td>\n",
       "      <td>20</td>\n",
       "      <td>21</td>\n",
       "      <td>22</td>\n",
       "      <td>22</td>\n",
       "    </tr>\n",
       "  </tbody>\n",
       "</table>\n",
       "<p>11 rows × 35 columns</p>\n",
       "</div>"
      ],
      "text/plain": [
       "                   Discovery Type  1989  1990  1991  1992  1993  1994  1995  \\\n",
       "0                      Astrometry     0     0     0     0     0     0     0   \n",
       "1                 Disk Kinematics     0     0     0     0     0     0     0   \n",
       "2       Eclipse Timing Variations     0     0     0     0     0     0     0   \n",
       "3                         Imaging     0     0     0     0     0     0     0   \n",
       "4                    Microlensing     0     0     0     0     0     0     0   \n",
       "5   Orbital Brightness Modulation     0     0     0     0     0     0     0   \n",
       "6                   Pulsar Timing     0     0     0     2     2     3     3   \n",
       "7     Pulsation Timing Variations     0     0     0     0     0     0     0   \n",
       "8                 Radial Velocity     1     1     1     1     1     1     2   \n",
       "9                         Transit     0     0     0     0     0     0     0   \n",
       "10      Transit Timing Variations     0     0     0     0     0     0     0   \n",
       "\n",
       "    1996  1997  ...  2013  2014  2015  2016  2017  2018  2019  2020  2021  \\\n",
       "0      0     0  ...     1     1     1     1     1     1     1     1     1   \n",
       "1      0     0  ...     0     0     0     0     0     0     1     1     1   \n",
       "2      0     0  ...    10    10    11    11    13    14    16    16    16   \n",
       "3      0     0  ...    34    36    41    43    44    45    49    51    58   \n",
       "4      0     0  ...    25    31    35    45    54    75    89   108   126   \n",
       "5      0     0  ...     3     6     6     6     6     6     6     6     9   \n",
       "6      3     3  ...     5     5     5     5     7     7     7     7     7   \n",
       "7      0     0  ...     1     1     1     2     2     2     2     2     2   \n",
       "8      8     9  ...   476   527   574   623   672   721   788   833   912   \n",
       "9      0     0  ...   360  1162  1262  2720  2809  3062  3175  3341  3756   \n",
       "10     0     0  ...     2    14    14    15    16    17    20    21    22   \n",
       "\n",
       "    2022  \n",
       "0      1  \n",
       "1      1  \n",
       "2     18  \n",
       "3     60  \n",
       "4    130  \n",
       "5      9  \n",
       "6      7  \n",
       "7      2  \n",
       "8    934  \n",
       "9   3870  \n",
       "10    22  \n",
       "\n",
       "[11 rows x 35 columns]"
      ]
     },
     "execution_count": 67,
     "metadata": {},
     "output_type": "execute_result"
    }
   ],
   "source": [
    "exoplanets_years"
   ]
  },
  {
   "cell_type": "code",
   "execution_count": 80,
   "metadata": {},
   "outputs": [
    {
     "data": {
      "text/plain": [
       "<AxesSubplot:>"
      ]
     },
     "execution_count": 80,
     "metadata": {},
     "output_type": "execute_result"
    },
    {
     "data": {
      "image/png": "[encoded data removed]",
      "text/plain": [
       "<Figure size 1440x720 with 1 Axes>"
      ]
     },
     "metadata": {
      "needs_background": "light"
     },
     "output_type": "display_data"
    }
   ],
   "source": [
    "exoplanets_years[exoplanets_years['Discovery Type'] == 'Transit'].plot(kind='bar', figsize=(20,10))"
   ]
  }
 ],
 "metadata": {
  "kernelspec": {
   "display_name": "Python 3.8.10 64-bit ('Data-Analysis')",
   "language": "python",
   "name": "python3"
  },
  "language_info": {
   "codemirror_mode": {
    "name": "ipython",
    "version": 3
   },
   "file_extension": ".py",
   "mimetype": "text/x-python",
   "name": "python",
   "nbconvert_exporter": "python",
   "pygments_lexer": "ipython3",
   "version": "3.8.10"
  },
  "orig_nbformat": 4,
  "vscode": {
   "interpreter": {
    "hash": "3a35e3d630ebbb90db362fa852232301048cd5945c05c2c4c52418b8a59701a3"
   }
  }
 },
 "nbformat": 4,
 "nbformat_minor": 2
}
